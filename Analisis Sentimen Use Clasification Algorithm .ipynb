{
 "cells": [
  {
   "cell_type": "code",
   "execution_count": 10,
   "metadata": {},
   "outputs": [],
   "source": [
    "import pandas as pd\n",
    "import numpy as np"
   ]
  },
  {
   "cell_type": "code",
   "execution_count": 11,
   "metadata": {},
   "outputs": [],
   "source": [
    "df_COD = pd.read_csv(r'C:\\Users\\Asani\\Python\\.vscode\\Tugas\\Data_COD.csv')\n",
    "df_FF = pd.read_csv(r'C:\\Users\\Asani\\Python\\.vscode\\Tugas\\Data_FF.csv')\n",
    "df_PUBG = pd.read_csv(r'C:\\Users\\Asani\\Python\\.vscode\\Tugas\\Data_PUBG.csv')"
   ]
  },
  {
   "cell_type": "code",
   "execution_count": 12,
   "metadata": {},
   "outputs": [
    {
     "data": {
      "text/html": [
       "<div>\n",
       "<style scoped>\n",
       "    .dataframe tbody tr th:only-of-type {\n",
       "        vertical-align: middle;\n",
       "    }\n",
       "\n",
       "    .dataframe tbody tr th {\n",
       "        vertical-align: top;\n",
       "    }\n",
       "\n",
       "    .dataframe thead th {\n",
       "        text-align: right;\n",
       "    }\n",
       "</style>\n",
       "<table border=\"1\" class=\"dataframe\">\n",
       "  <thead>\n",
       "    <tr style=\"text-align: right;\">\n",
       "      <th></th>\n",
       "      <th>Username</th>\n",
       "      <th>waktu</th>\n",
       "      <th>Komentar</th>\n",
       "      <th>Rating</th>\n",
       "    </tr>\n",
       "  </thead>\n",
       "  <tbody>\n",
       "    <tr>\n",
       "      <th>0</th>\n",
       "      <td>Rezky kurnia</td>\n",
       "      <td>2023-06-21</td>\n",
       "      <td>terlalu sangat banyak update tidak jelas simpa...</td>\n",
       "      <td>1</td>\n",
       "    </tr>\n",
       "    <tr>\n",
       "      <th>1</th>\n",
       "      <td>Nana Prasetya</td>\n",
       "      <td>2023-06-21</td>\n",
       "      <td>permainan salah satu game favorit saya game ke...</td>\n",
       "      <td>5</td>\n",
       "    </tr>\n",
       "    <tr>\n",
       "      <th>2</th>\n",
       "      <td>Geraldo Wowiling</td>\n",
       "      <td>2023-06-21</td>\n",
       "      <td>game sudah bagus sesungguh semua bagus kecuali...</td>\n",
       "      <td>3</td>\n",
       "    </tr>\n",
       "    <tr>\n",
       "      <th>3</th>\n",
       "      <td>Liya Triana</td>\n",
       "      <td>2023-06-21</td>\n",
       "      <td>mencari musuh tolong yang pintar kemampuan</td>\n",
       "      <td>2</td>\n",
       "    </tr>\n",
       "    <tr>\n",
       "      <th>4</th>\n",
       "      <td>Fendinata Rahman Hakim</td>\n",
       "      <td>2023-06-21</td>\n",
       "      <td>pilih tim sesuai skill bawah saya dan lawan se...</td>\n",
       "      <td>1</td>\n",
       "    </tr>\n",
       "    <tr>\n",
       "      <th>...</th>\n",
       "      <td>...</td>\n",
       "      <td>...</td>\n",
       "      <td>...</td>\n",
       "      <td>...</td>\n",
       "    </tr>\n",
       "    <tr>\n",
       "      <th>4995</th>\n",
       "      <td>Pengguna Google</td>\n",
       "      <td>2019-09-30</td>\n",
       "      <td>bagus ada beberapa masuk contoh damage  kaki k...</td>\n",
       "      <td>4</td>\n",
       "    </tr>\n",
       "    <tr>\n",
       "      <th>4996</th>\n",
       "      <td>Pengguna Google</td>\n",
       "      <td>2019-09-30</td>\n",
       "      <td>good permainan tingkat  lagi senjata lebih ban...</td>\n",
       "      <td>4</td>\n",
       "    </tr>\n",
       "    <tr>\n",
       "      <th>4997</th>\n",
       "      <td>Pengguna Google</td>\n",
       "      <td>2019-09-30</td>\n",
       "      <td>orang bodoh yang asal nilai kecil mereka tidak...</td>\n",
       "      <td>5</td>\n",
       "    </tr>\n",
       "    <tr>\n",
       "      <th>4998</th>\n",
       "      <td>Pengguna Google</td>\n",
       "      <td>2019-09-30</td>\n",
       "      <td>untuk dari permainan garena sendiri sudah bagu...</td>\n",
       "      <td>5</td>\n",
       "    </tr>\n",
       "    <tr>\n",
       "      <th>4999</th>\n",
       "      <td>Pengguna Google</td>\n",
       "      <td>2019-09-30</td>\n",
       "      <td>kontrol kurang nyaman dengan sensitifitas terl...</td>\n",
       "      <td>3</td>\n",
       "    </tr>\n",
       "  </tbody>\n",
       "</table>\n",
       "<p>5000 rows × 4 columns</p>\n",
       "</div>"
      ],
      "text/plain": [
       "                    Username       waktu  \\\n",
       "0               Rezky kurnia  2023-06-21   \n",
       "1              Nana Prasetya  2023-06-21   \n",
       "2           Geraldo Wowiling  2023-06-21   \n",
       "3                Liya Triana  2023-06-21   \n",
       "4     Fendinata Rahman Hakim  2023-06-21   \n",
       "...                      ...         ...   \n",
       "4995         Pengguna Google  2019-09-30   \n",
       "4996         Pengguna Google  2019-09-30   \n",
       "4997         Pengguna Google  2019-09-30   \n",
       "4998         Pengguna Google  2019-09-30   \n",
       "4999         Pengguna Google  2019-09-30   \n",
       "\n",
       "                                               Komentar  Rating  \n",
       "0     terlalu sangat banyak update tidak jelas simpa...       1  \n",
       "1     permainan salah satu game favorit saya game ke...       5  \n",
       "2     game sudah bagus sesungguh semua bagus kecuali...       3  \n",
       "3           mencari musuh tolong yang pintar kemampuan        2  \n",
       "4     pilih tim sesuai skill bawah saya dan lawan se...       1  \n",
       "...                                                 ...     ...  \n",
       "4995  bagus ada beberapa masuk contoh damage  kaki k...       4  \n",
       "4996  good permainan tingkat  lagi senjata lebih ban...       4  \n",
       "4997  orang bodoh yang asal nilai kecil mereka tidak...       5  \n",
       "4998  untuk dari permainan garena sendiri sudah bagu...       5  \n",
       "4999  kontrol kurang nyaman dengan sensitifitas terl...       3  \n",
       "\n",
       "[5000 rows x 4 columns]"
      ]
     },
     "execution_count": 12,
     "metadata": {},
     "output_type": "execute_result"
    }
   ],
   "source": [
    "df_COD"
   ]
  },
  {
   "cell_type": "code",
   "execution_count": 13,
   "metadata": {},
   "outputs": [],
   "source": [
    "# Menggabungkan ketiga dataset dalam satu list\n",
    "datasets = [df_COD, df_FF, df_PUBG]\n",
    "\n",
    "# Proses untuk setiap dataset\n",
    "for df in datasets:\n",
    "    df[\"waktu\"] = pd.to_datetime(df[\"waktu\"])\n",
    "    df[\"tahun\"] = df[\"waktu\"].dt.year\n",
    "    df[\"bulan\"] = df[\"waktu\"].dt.month"
   ]
  },
  {
   "attachments": {},
   "cell_type": "markdown",
   "metadata": {},
   "source": [
    "## Mendefinisikan kolom Sentimen"
   ]
  },
  {
   "cell_type": "code",
   "execution_count": 14,
   "metadata": {},
   "outputs": [
    {
     "data": {
      "text/html": [
       "<div>\n",
       "<style scoped>\n",
       "    .dataframe tbody tr th:only-of-type {\n",
       "        vertical-align: middle;\n",
       "    }\n",
       "\n",
       "    .dataframe tbody tr th {\n",
       "        vertical-align: top;\n",
       "    }\n",
       "\n",
       "    .dataframe thead th {\n",
       "        text-align: right;\n",
       "    }\n",
       "</style>\n",
       "<table border=\"1\" class=\"dataframe\">\n",
       "  <thead>\n",
       "    <tr style=\"text-align: right;\">\n",
       "      <th></th>\n",
       "      <th>bulan</th>\n",
       "      <th>Rating</th>\n",
       "      <th>Sentimen</th>\n",
       "    </tr>\n",
       "  </thead>\n",
       "  <tbody>\n",
       "    <tr>\n",
       "      <th>0</th>\n",
       "      <td>6</td>\n",
       "      <td>1</td>\n",
       "      <td>Negatif</td>\n",
       "    </tr>\n",
       "    <tr>\n",
       "      <th>1</th>\n",
       "      <td>6</td>\n",
       "      <td>5</td>\n",
       "      <td>Positif</td>\n",
       "    </tr>\n",
       "    <tr>\n",
       "      <th>2</th>\n",
       "      <td>6</td>\n",
       "      <td>3</td>\n",
       "      <td>Netral</td>\n",
       "    </tr>\n",
       "    <tr>\n",
       "      <th>3</th>\n",
       "      <td>6</td>\n",
       "      <td>2</td>\n",
       "      <td>Negatif</td>\n",
       "    </tr>\n",
       "    <tr>\n",
       "      <th>4</th>\n",
       "      <td>6</td>\n",
       "      <td>1</td>\n",
       "      <td>Negatif</td>\n",
       "    </tr>\n",
       "    <tr>\n",
       "      <th>...</th>\n",
       "      <td>...</td>\n",
       "      <td>...</td>\n",
       "      <td>...</td>\n",
       "    </tr>\n",
       "    <tr>\n",
       "      <th>4995</th>\n",
       "      <td>9</td>\n",
       "      <td>4</td>\n",
       "      <td>Positif</td>\n",
       "    </tr>\n",
       "    <tr>\n",
       "      <th>4996</th>\n",
       "      <td>9</td>\n",
       "      <td>4</td>\n",
       "      <td>Positif</td>\n",
       "    </tr>\n",
       "    <tr>\n",
       "      <th>4997</th>\n",
       "      <td>9</td>\n",
       "      <td>5</td>\n",
       "      <td>Positif</td>\n",
       "    </tr>\n",
       "    <tr>\n",
       "      <th>4998</th>\n",
       "      <td>9</td>\n",
       "      <td>5</td>\n",
       "      <td>Positif</td>\n",
       "    </tr>\n",
       "    <tr>\n",
       "      <th>4999</th>\n",
       "      <td>9</td>\n",
       "      <td>3</td>\n",
       "      <td>Netral</td>\n",
       "    </tr>\n",
       "  </tbody>\n",
       "</table>\n",
       "<p>5000 rows × 3 columns</p>\n",
       "</div>"
      ],
      "text/plain": [
       "      bulan  Rating Sentimen\n",
       "0         6       1  Negatif\n",
       "1         6       5  Positif\n",
       "2         6       3   Netral\n",
       "3         6       2  Negatif\n",
       "4         6       1  Negatif\n",
       "...     ...     ...      ...\n",
       "4995      9       4  Positif\n",
       "4996      9       4  Positif\n",
       "4997      9       5  Positif\n",
       "4998      9       5  Positif\n",
       "4999      9       3   Netral\n",
       "\n",
       "[5000 rows x 3 columns]"
      ]
     },
     "execution_count": 14,
     "metadata": {},
     "output_type": "execute_result"
    }
   ],
   "source": [
    "# Menentukan ambang batas untuk mengkategorikan sentimen\n",
    "threshold_positif = 4\n",
    "threshold_negatif = 2\n",
    "threshold_netral = 3\n",
    "\n",
    "# Menerapkan analisis sentimen berdasarkan skor\n",
    "df_COD['Sentimen'] = df_COD['Rating'].apply(lambda x: 'Positif' if x >= threshold_positif else 'Negatif' \n",
    "                                                                if x <= threshold_negatif else 'Netral')\n",
    "\n",
    "# Menyimpan hasil analisis sentimen ke dalam data frame\n",
    "df_COD_rating = df_COD[['bulan', 'Rating', 'Sentimen']]\n",
    "\n",
    "df_COD_rating"
   ]
  },
  {
   "attachments": {},
   "cell_type": "markdown",
   "metadata": {},
   "source": [
    "## Analisis sentimen berdasarkan rating yang diberikan "
   ]
  },
  {
   "cell_type": "code",
   "execution_count": 15,
   "metadata": {},
   "outputs": [],
   "source": [
    "from sklearn.preprocessing import StandardScaler, LabelEncoder\n",
    "from sklearn.model_selection import train_test_split\n",
    "from sklearn.compose import ColumnTransformer\n",
    "from sklearn.metrics import accuracy_score\n",
    "\n",
    "from sklearn import svm\n",
    "from sklearn.ensemble import RandomForestClassifier\n",
    "from sklearn.neighbors import KNeighborsClassifier\n",
    "from sklearn.model_selection import GridSearchCV"
   ]
  },
  {
   "attachments": {},
   "cell_type": "markdown",
   "metadata": {},
   "source": [
    "## Data set Call of Duty"
   ]
  },
  {
   "attachments": {},
   "cell_type": "markdown",
   "metadata": {},
   "source": [
    "### Membagi dataset"
   ]
  },
  {
   "cell_type": "code",
   "execution_count": 16,
   "metadata": {},
   "outputs": [
    {
     "data": {
      "text/plain": [
       "((4000, 2), (1000, 2), (4000,), (1000,))"
      ]
     },
     "execution_count": 16,
     "metadata": {},
     "output_type": "execute_result"
    }
   ],
   "source": [
    "from sklearn.model_selection import train_test_split\n",
    "\n",
    "X_COD = df_COD_rating[['bulan', 'Rating']]\n",
    "y_COD = df_COD_rating.Sentimen\n",
    "\n",
    "X_train, X_test, y_train, y_test = train_test_split(X_COD, y_COD, test_size=0.2, random_state=42, stratify=y_COD)\n",
    "\n",
    "X_train.shape, X_test.shape, y_train.shape, y_test.shape\n"
   ]
  },
  {
   "attachments": {},
   "cell_type": "markdown",
   "metadata": {},
   "source": [
    "## Model Random Forres"
   ]
  },
  {
   "cell_type": "code",
   "execution_count": 17,
   "metadata": {},
   "outputs": [
    {
     "name": "stdout",
     "output_type": "stream",
     "text": [
      "Accuracy: 100.0 %\n"
     ]
    }
   ],
   "source": [
    "# Membuat Model\n",
    "model = RandomForestClassifier(n_estimators=200, random_state=42)\n",
    "model.fit(X_train, y_train)\n",
    "\n",
    "# Memuat prediksi dari model\n",
    "y_RFC_pred = model.predict(X_test)\n",
    "\n",
    "# Menghitung akurasi model\n",
    "accuracy = accuracy_score(y_test, y_RFC_pred)\n",
    "print('Accuracy:', accuracy*100,\"%\")"
   ]
  },
  {
   "attachments": {},
   "cell_type": "markdown",
   "metadata": {},
   "source": [
    "## Model KNN"
   ]
  },
  {
   "cell_type": "code",
   "execution_count": 18,
   "metadata": {},
   "outputs": [
    {
     "name": "stdout",
     "output_type": "stream",
     "text": [
      "Accuracy: 100.0 %\n"
     ]
    }
   ],
   "source": [
    "# membuat model\n",
    "Model_KNN = KNeighborsClassifier(n_neighbors=3)\n",
    "\n",
    "#Melatih Model\n",
    "Model_KNN.fit(X_train, y_train)\n",
    "\n",
    "# Melakukan Uji pada data test\n",
    "y_KNN_predict = Model_KNN.predict(X_test)\n",
    "\n",
    "# Menhitung akurasi model\n",
    "accuracy_KNN = accuracy_score(y_test, y_KNN_predict)\n",
    "print('Accuracy:', accuracy_KNN*100, \"%\")"
   ]
  },
  {
   "attachments": {},
   "cell_type": "markdown",
   "metadata": {},
   "source": [
    "## Model SVM"
   ]
  },
  {
   "cell_type": "code",
   "execution_count": 19,
   "metadata": {},
   "outputs": [],
   "source": [
    "from sklearn.preprocessing import LabelEncoder\n",
    "\n",
    "# Menggunakan LabelEncoder\n",
    "le = LabelEncoder()\n",
    "df_COD= df_COD.copy()\n",
    "df_COD['Sentimen'] = le.fit_transform(df_COD['Sentimen'])\n"
   ]
  },
  {
   "cell_type": "code",
   "execution_count": 20,
   "metadata": {},
   "outputs": [
    {
     "name": "stdout",
     "output_type": "stream",
     "text": [
      "Akurasi: 100.0 %\n"
     ]
    }
   ],
   "source": [
    "# membuat model\n",
    "model_SVM = svm.SVC(kernel='linear')\n",
    "\n",
    "#Melatih Model\n",
    "model_SVM.fit(X_train, y_train)\n",
    "\n",
    "#Memprediksi label untuk test set\n",
    "y_pred = model_SVM.predict(X_test)\n",
    "\n",
    "# Menghitung akurasi prediksi\n",
    "accuracy = accuracy_score(y_test, y_pred)\n",
    "print(\"Akurasi:\", accuracy*100,'%')"
   ]
  },
  {
   "attachments": {},
   "cell_type": "markdown",
   "metadata": {},
   "source": [
    "# Analisis Sentimen berdasarkan Komentar yang diberikan"
   ]
  },
  {
   "attachments": {},
   "cell_type": "markdown",
   "metadata": {},
   "source": [
    "## 1. Dataset Free Fire"
   ]
  },
  {
   "cell_type": "code",
   "execution_count": 21,
   "metadata": {},
   "outputs": [
    {
     "data": {
      "text/html": [
       "<div>\n",
       "<style scoped>\n",
       "    .dataframe tbody tr th:only-of-type {\n",
       "        vertical-align: middle;\n",
       "    }\n",
       "\n",
       "    .dataframe tbody tr th {\n",
       "        vertical-align: top;\n",
       "    }\n",
       "\n",
       "    .dataframe thead th {\n",
       "        text-align: right;\n",
       "    }\n",
       "</style>\n",
       "<table border=\"1\" class=\"dataframe\">\n",
       "  <thead>\n",
       "    <tr style=\"text-align: right;\">\n",
       "      <th></th>\n",
       "      <th>Komentar</th>\n",
       "      <th>Sentimen</th>\n",
       "    </tr>\n",
       "  </thead>\n",
       "  <tbody>\n",
       "    <tr>\n",
       "      <th>0</th>\n",
       "      <td>tolong permainan ringan  karena kasihan kami y...</td>\n",
       "      <td>Negatif</td>\n",
       "    </tr>\n",
       "    <tr>\n",
       "      <th>1</th>\n",
       "      <td>baca info permainan saja terus padahal sinyal ...</td>\n",
       "      <td>Negatif</td>\n",
       "    </tr>\n",
       "    <tr>\n",
       "      <th>2</th>\n",
       "      <td>sudah update sinyal kenapa tidak stabil  tolon...</td>\n",
       "      <td>Negatif</td>\n",
       "    </tr>\n",
       "    <tr>\n",
       "      <th>3</th>\n",
       "      <td>update terus semua cacat tidak urus jaringan s...</td>\n",
       "      <td>Positif</td>\n",
       "    </tr>\n",
       "    <tr>\n",
       "      <th>4</th>\n",
       "      <td>tidak bisa berguna update terus kita kalau mai...</td>\n",
       "      <td>Negatif</td>\n",
       "    </tr>\n",
       "    <tr>\n",
       "      <th>...</th>\n",
       "      <td>...</td>\n",
       "      <td>...</td>\n",
       "    </tr>\n",
       "    <tr>\n",
       "      <th>4995</th>\n",
       "      <td>tolong perbaiki tentang cacat luar zona  hanya...</td>\n",
       "      <td>Negatif</td>\n",
       "    </tr>\n",
       "    <tr>\n",
       "      <th>4996</th>\n",
       "      <td>untuk pihak garena free fire indonesia tolong ...</td>\n",
       "      <td>Positif</td>\n",
       "    </tr>\n",
       "    <tr>\n",
       "      <th>4997</th>\n",
       "      <td>jangan terlalu ada banyak alasan masalah pada ...</td>\n",
       "      <td>Positif</td>\n",
       "    </tr>\n",
       "    <tr>\n",
       "      <th>4998</th>\n",
       "      <td>saya mau kasih tahu buat garena free fire upda...</td>\n",
       "      <td>Positif</td>\n",
       "    </tr>\n",
       "    <tr>\n",
       "      <th>4999</th>\n",
       "      <td>akhir akhir saya sering rasa masalah macthing ...</td>\n",
       "      <td>Positif</td>\n",
       "    </tr>\n",
       "  </tbody>\n",
       "</table>\n",
       "<p>5000 rows × 2 columns</p>\n",
       "</div>"
      ],
      "text/plain": [
       "                                               Komentar Sentimen\n",
       "0     tolong permainan ringan  karena kasihan kami y...  Negatif\n",
       "1     baca info permainan saja terus padahal sinyal ...  Negatif\n",
       "2     sudah update sinyal kenapa tidak stabil  tolon...  Negatif\n",
       "3     update terus semua cacat tidak urus jaringan s...  Positif\n",
       "4     tidak bisa berguna update terus kita kalau mai...  Negatif\n",
       "...                                                 ...      ...\n",
       "4995  tolong perbaiki tentang cacat luar zona  hanya...  Negatif\n",
       "4996  untuk pihak garena free fire indonesia tolong ...  Positif\n",
       "4997  jangan terlalu ada banyak alasan masalah pada ...  Positif\n",
       "4998  saya mau kasih tahu buat garena free fire upda...  Positif\n",
       "4999  akhir akhir saya sering rasa masalah macthing ...  Positif\n",
       "\n",
       "[5000 rows x 2 columns]"
      ]
     },
     "execution_count": 21,
     "metadata": {},
     "output_type": "execute_result"
    }
   ],
   "source": [
    "# Menentukan ambang batas untuk mengkategorikan sentimen\n",
    "threshold_positif = 3\n",
    "threshold_negatif = 2\n",
    "\n",
    "# Menerapkan analisis sentimen berdasarkan skor\n",
    "df_FF['Sentimen'] = df_FF['Rating'].apply(lambda x: 'Positif' if x >= threshold_positif else 'Negatif')\n",
    "\n",
    "# Menyimpan hasil analisis sentimen ke dalam data frame\n",
    "df_FF = df_FF[['Komentar', 'Sentimen']]\n",
    "\n",
    "df_FF"
   ]
  },
  {
   "cell_type": "code",
   "execution_count": 22,
   "metadata": {},
   "outputs": [],
   "source": [
    "from imblearn.over_sampling import SMOTE\n",
    "from sklearn.feature_extraction.text import TfidfVectorizer\n",
    "from sklearn.naive_bayes import MultinomialNB\n",
    "from sklearn.metrics import accuracy_score, f1_score, confusion_matrix\n",
    "from sklearn.model_selection import StratifiedKFold\n",
    "from sklearn.model_selection import cross_val_score\n"
   ]
  },
  {
   "attachments": {},
   "cell_type": "markdown",
   "metadata": {},
   "source": [
    "## 1.1. Random Forres Classifier"
   ]
  },
  {
   "cell_type": "code",
   "execution_count": 23,
   "metadata": {},
   "outputs": [],
   "source": [
    "# Load data\n",
    "X = df_FF[\"Komentar\"]\n",
    "y = df_FF[\"Sentimen\"]\n",
    "\n",
    "# Membuat objek KFold dengan k=5\n",
    "kfold_FF = StratifiedKFold(n_splits=5, shuffle=True, random_state=42)\n",
    "\n",
    "# Melakukan Stratified K-Fold Cross Validation pada data\n",
    "for fold, (train_index, test_index) in enumerate(kfold_FF.split(X, y)):\n",
    "    \n",
    "    # Subset data pelatihan dan data pengujian\n",
    "    X_train, X_test = X[train_index], X[test_index]\n",
    "    y_train, y_test = y[train_index], y[test_index]"
   ]
  },
  {
   "cell_type": "code",
   "execution_count": 24,
   "metadata": {},
   "outputs": [
    {
     "name": "stdout",
     "output_type": "stream",
     "text": [
      "Train Set:\n",
      "Jumlah sentimen negatif: 2460\n",
      "Jumlah sentimen positif: 1540\n",
      "\n",
      "Test Set:\n",
      "Jumlah sentimen negatif: 614\n",
      "Jumlah sentimen positif: 386\n",
      "\n"
     ]
    }
   ],
   "source": [
    "    # Menghitung jumlah sentimen negatif dan positif pada subset pelatihan\n",
    "    neg_count_train = np.sum(y_train == 'Negatif')\n",
    "    pos_count_train = np.sum(y_train == 'Positif')\n",
    "    \n",
    "    # Menghitung jumlah sentimen negatif dan positif pada subset pengujian\n",
    "    neg_count_test = np.sum(y_test == 'Negatif')\n",
    "    pos_count_test = np.sum(y_test == 'Positif')\n",
    "    \n",
    "    print(\"Train Set:\")\n",
    "    print(\"Jumlah sentimen negatif:\", neg_count_train)\n",
    "    print(\"Jumlah sentimen positif:\", pos_count_train)\n",
    "    print(\"\")\n",
    "    \n",
    "    print(\"Test Set:\")\n",
    "    print(\"Jumlah sentimen negatif:\", neg_count_test)\n",
    "    print(\"Jumlah sentimen positif:\", pos_count_test)\n",
    "    print(\"\")"
   ]
  },
  {
   "cell_type": "code",
   "execution_count": 25,
   "metadata": {},
   "outputs": [
    {
     "name": "stderr",
     "output_type": "stream",
     "text": [
      "C:\\Users\\Asani\\AppData\\Local\\Temp\\ipykernel_4744\\2495799523.py:1: SettingWithCopyWarning: \n",
      "A value is trying to be set on a copy of a slice from a DataFrame.\n",
      "Try using .loc[row_indexer,col_indexer] = value instead\n",
      "\n",
      "See the caveats in the documentation: https://pandas.pydata.org/pandas-docs/stable/user_guide/indexing.html#returning-a-view-versus-a-copy\n",
      "  df_FF['Komentar'] = df_FF['Komentar'].fillna('')\n",
      "C:\\Users\\Asani\\AppData\\Local\\Temp\\ipykernel_4744\\2495799523.py:4: SettingWithCopyWarning: \n",
      "A value is trying to be set on a copy of a slice from a DataFrame.\n",
      "Try using .loc[row_indexer,col_indexer] = value instead\n",
      "\n",
      "See the caveats in the documentation: https://pandas.pydata.org/pandas-docs/stable/user_guide/indexing.html#returning-a-view-versus-a-copy\n",
      "  df_FF.loc[:, 'Komentar'] = df_FF['Komentar'].astype(str)\n"
     ]
    }
   ],
   "source": [
    "df_FF['Komentar'] = df_FF['Komentar'].fillna('')\n",
    "\n",
    "# Konversi data teks ke tipe string\n",
    "df_FF.loc[:, 'Komentar'] = df_FF['Komentar'].astype(str)"
   ]
  },
  {
   "cell_type": "code",
   "execution_count": 26,
   "metadata": {},
   "outputs": [],
   "source": [
    "# Membuat objek vectorizer dan mengubah data latih ke dalam representasi vektor\n",
    "vectorizer = TfidfVectorizer(max_features=1000, binary=True)\n",
    "X_vect = vectorizer.fit_transform(df_FF['Komentar'].values)\n",
    "\n",
    "# Mengubah representasi vektor menjadi array numpy\n",
    "X_array = X_vect.toarray()"
   ]
  },
  {
   "cell_type": "code",
   "execution_count": 27,
   "metadata": {},
   "outputs": [
    {
     "name": "stdout",
     "output_type": "stream",
     "text": [
      "[('Negatif', 3074), ('Positif', 3074)]\n"
     ]
    }
   ],
   "source": [
    "# Melakukan oversampling menggunakan SMOTE\n",
    "sm = SMOTE()\n",
    "X_resampled, y_resampled = sm.fit_resample(X_array, y)\n",
    "\n",
    "unique, counts = np.unique(y_resampled, return_counts=True)\n",
    "print(list(zip(unique, counts)))"
   ]
  },
  {
   "cell_type": "code",
   "execution_count": 28,
   "metadata": {},
   "outputs": [
    {
     "name": "stdout",
     "output_type": "stream",
     "text": [
      "Fold 1 Accuracy: 81.0569105691057 %\n",
      "Fold 2 Accuracy: 79.02439024390245 %\n",
      "Fold 3 Accuracy: 78.04878048780488 %\n",
      "Fold 4 Accuracy: 78.27502034174125 %\n",
      "Fold 5 Accuracy: 80.14646053702197 %\n"
     ]
    }
   ],
   "source": [
    "# Membuat model RandomForestClassifier\n",
    "model = RandomForestClassifier()\n",
    "\n",
    "# Melakukan cross validation\n",
    "scores = cross_val_score(model, X_resampled, y_resampled, cv=kfold_FF)\n",
    "\n",
    "# Menampilkan hasil kinerja model pada setiap fold\n",
    "for fold, score in enumerate(scores):\n",
    "    print(\"Fold\", fold+1, \"Accuracy:\", score*100,\"%\")\n"
   ]
  },
  {
   "cell_type": "code",
   "execution_count": 29,
   "metadata": {},
   "outputs": [
    {
     "name": "stdout",
     "output_type": "stream",
     "text": [
      "Accuracy: 100.00%\n",
      "F1 Score: 100.00\n",
      "\n",
      "Confusion Matrix:\n",
      " [[614   0]\n",
      " [  0 386]]\n"
     ]
    }
   ],
   "source": [
    "# Melatih model dengan data latih yang telah di-resampling\n",
    "model.fit(X_resampled, y_resampled)\n",
    "\n",
    "# Menghitung akurasi dan prediksi pada data uji\n",
    "X_test_vect = vectorizer.transform(X_test)\n",
    "y_pred = model.predict(X_test_vect)\n",
    "\n",
    "# Menampilkan hasil evaluasi model\n",
    "print(\"Accuracy: {:.2f}%\".format(accuracy_score(y_test, y_pred) * 100))\n",
    "print(\"F1 Score: {:.2f}\".format(f1_score(y_test, y_pred, average='weighted') * 100))\n",
    "print(\"\\nConfusion Matrix:\\n\", confusion_matrix(y_test, y_pred))"
   ]
  },
  {
   "attachments": {},
   "cell_type": "markdown",
   "metadata": {},
   "source": [
    "## 1.2 Model Naive Bayes"
   ]
  },
  {
   "cell_type": "code",
   "execution_count": 30,
   "metadata": {},
   "outputs": [
    {
     "data": {
      "text/plain": [
       "((4000,), (1000,), (4000,), (1000,))"
      ]
     },
     "execution_count": 30,
     "metadata": {},
     "output_type": "execute_result"
    }
   ],
   "source": [
    "X_train, X_test, y_train, y_test = train_test_split(X, y, test_size=0.2, random_state=42)\n",
    "X_train.shape, X_test.shape, y_train.shape, y_test.shape"
   ]
  },
  {
   "cell_type": "code",
   "execution_count": 31,
   "metadata": {},
   "outputs": [
    {
     "name": "stdout",
     "output_type": "stream",
     "text": [
      "[('Negatif', 2460), ('Positif', 2460)]\n"
     ]
    }
   ],
   "source": [
    "from sklearn.impute import SimpleImputer\n",
    "\n",
    "# Menggantikan nilai np.nan dengan string kosong ''\n",
    "X_train_cleaned = np.where(pd.isnull(X_train), '', X_train)\n",
    "\n",
    "# Menerapkan TfidfVectorizer pada data yang telah dikosongkan\n",
    "vect = TfidfVectorizer(max_features=1000, binary=True)\n",
    "X_train_vect = vect.fit_transform(X_train_cleaned)\n",
    "\n",
    "sm = SMOTE()\n",
    "X_train_res, y_train_res = sm.fit_resample(X_train_vect, y_train)\n",
    "\n",
    "unique, counts = np.unique(y_train_res, return_counts=True)\n",
    "print(list(zip(unique, counts)))\n",
    "\n"
   ]
  },
  {
   "cell_type": "code",
   "execution_count": 32,
   "metadata": {},
   "outputs": [
    {
     "data": {
      "text/plain": [
       "0.7932926829268293"
      ]
     },
     "execution_count": 32,
     "metadata": {},
     "output_type": "execute_result"
    }
   ],
   "source": [
    "#Melihat kinerja model\n",
    "nb = MultinomialNB()\n",
    "nb.fit(X_train_res, y_train_res)\n",
    "nb.score(X_train_res, y_train_res)"
   ]
  },
  {
   "cell_type": "code",
   "execution_count": 33,
   "metadata": {},
   "outputs": [
    {
     "name": "stdout",
     "output_type": "stream",
     "text": [
      "Accuracy: 71.60%\n",
      "F1 Score: 71.88\n",
      "\n",
      "COnfusion Matrix:\n",
      " [[445 169]\n",
      " [115 271]]\n"
     ]
    }
   ],
   "source": [
    "X_test_vect = vect.transform(X_test)\n",
    "y_pred = nb.predict(X_test_vect)\n",
    "\n",
    "print(\"Accuracy: {:.2f}%\".format(accuracy_score(y_test, y_pred) * 100))\n",
    "print(\"F1 Score: {:.2f}\".format(f1_score(y_test, y_pred, average='weighted') * 100))\n",
    "print(\"\\nCOnfusion Matrix:\\n\", confusion_matrix(y_test, y_pred))"
   ]
  },
  {
   "attachments": {},
   "cell_type": "markdown",
   "metadata": {},
   "source": [
    "## 2. Membandingkan Akurasi score dari Analisis sentimen menggunakan model SVM pada Dataset COD dan PUBG "
   ]
  },
  {
   "cell_type": "code",
   "execution_count": 34,
   "metadata": {},
   "outputs": [],
   "source": [
    "# Menentukan ambang batas untuk mengkategorikan sentimen\n",
    "threshold_positif = 4\n",
    "threshold_negatif = 3\n",
    "\n",
    "# Menerapkan analisis sentimen berdasarkan skor\n",
    "df_COD['Sentimen'] = df_COD['Rating'].apply(lambda x: 'Positif' if x >= threshold_positif else 'Negatif')\n",
    "\n",
    "# Menyimpan hasil analisis sentimen ke dalam data frame\n",
    "df_COD = df_COD[['Komentar','Sentimen']]\n",
    "\n",
    "# Menerapkan analisis sentimen berdasarkan skor\n",
    "df_PUBG['Sentimen'] = df_PUBG['Rating'].apply(lambda x: 'Positif' if x >= threshold_positif else 'Negatif')\n",
    "\n",
    "# Menyimpan hasil analisis sentimen ke dalam data frame\n",
    "df_PUBG = df_PUBG[['Komentar','Sentimen']]"
   ]
  },
  {
   "cell_type": "code",
   "execution_count": 35,
   "metadata": {},
   "outputs": [
    {
     "data": {
      "text/html": [
       "<div>\n",
       "<style scoped>\n",
       "    .dataframe tbody tr th:only-of-type {\n",
       "        vertical-align: middle;\n",
       "    }\n",
       "\n",
       "    .dataframe tbody tr th {\n",
       "        vertical-align: top;\n",
       "    }\n",
       "\n",
       "    .dataframe thead th {\n",
       "        text-align: right;\n",
       "    }\n",
       "</style>\n",
       "<table border=\"1\" class=\"dataframe\">\n",
       "  <thead>\n",
       "    <tr style=\"text-align: right;\">\n",
       "      <th></th>\n",
       "      <th>Komentar</th>\n",
       "      <th>Sentimen</th>\n",
       "    </tr>\n",
       "  </thead>\n",
       "  <tbody>\n",
       "    <tr>\n",
       "      <th>0</th>\n",
       "      <td>terlalu sangat banyak update tidak jelas simpa...</td>\n",
       "      <td>Negatif</td>\n",
       "    </tr>\n",
       "    <tr>\n",
       "      <th>1</th>\n",
       "      <td>permainan salah satu game favorit saya game ke...</td>\n",
       "      <td>Positif</td>\n",
       "    </tr>\n",
       "    <tr>\n",
       "      <th>2</th>\n",
       "      <td>game sudah bagus sesungguh semua bagus kecuali...</td>\n",
       "      <td>Negatif</td>\n",
       "    </tr>\n",
       "    <tr>\n",
       "      <th>3</th>\n",
       "      <td>mencari musuh tolong yang pintar kemampuan</td>\n",
       "      <td>Negatif</td>\n",
       "    </tr>\n",
       "    <tr>\n",
       "      <th>4</th>\n",
       "      <td>pilih tim sesuai skill bawah saya dan lawan se...</td>\n",
       "      <td>Negatif</td>\n",
       "    </tr>\n",
       "    <tr>\n",
       "      <th>...</th>\n",
       "      <td>...</td>\n",
       "      <td>...</td>\n",
       "    </tr>\n",
       "    <tr>\n",
       "      <th>4995</th>\n",
       "      <td>bagus ada beberapa masuk contoh damage  kaki k...</td>\n",
       "      <td>Positif</td>\n",
       "    </tr>\n",
       "    <tr>\n",
       "      <th>4996</th>\n",
       "      <td>good permainan tingkat  lagi senjata lebih ban...</td>\n",
       "      <td>Positif</td>\n",
       "    </tr>\n",
       "    <tr>\n",
       "      <th>4997</th>\n",
       "      <td>orang bodoh yang asal nilai kecil mereka tidak...</td>\n",
       "      <td>Positif</td>\n",
       "    </tr>\n",
       "    <tr>\n",
       "      <th>4998</th>\n",
       "      <td>untuk dari permainan garena sendiri sudah bagu...</td>\n",
       "      <td>Positif</td>\n",
       "    </tr>\n",
       "    <tr>\n",
       "      <th>4999</th>\n",
       "      <td>kontrol kurang nyaman dengan sensitifitas terl...</td>\n",
       "      <td>Negatif</td>\n",
       "    </tr>\n",
       "  </tbody>\n",
       "</table>\n",
       "<p>5000 rows × 2 columns</p>\n",
       "</div>"
      ],
      "text/plain": [
       "                                               Komentar Sentimen\n",
       "0     terlalu sangat banyak update tidak jelas simpa...  Negatif\n",
       "1     permainan salah satu game favorit saya game ke...  Positif\n",
       "2     game sudah bagus sesungguh semua bagus kecuali...  Negatif\n",
       "3           mencari musuh tolong yang pintar kemampuan   Negatif\n",
       "4     pilih tim sesuai skill bawah saya dan lawan se...  Negatif\n",
       "...                                                 ...      ...\n",
       "4995  bagus ada beberapa masuk contoh damage  kaki k...  Positif\n",
       "4996  good permainan tingkat  lagi senjata lebih ban...  Positif\n",
       "4997  orang bodoh yang asal nilai kecil mereka tidak...  Positif\n",
       "4998  untuk dari permainan garena sendiri sudah bagu...  Positif\n",
       "4999  kontrol kurang nyaman dengan sensitifitas terl...  Negatif\n",
       "\n",
       "[5000 rows x 2 columns]"
      ]
     },
     "execution_count": 35,
     "metadata": {},
     "output_type": "execute_result"
    }
   ],
   "source": [
    "df_COD"
   ]
  },
  {
   "cell_type": "code",
   "execution_count": 36,
   "metadata": {},
   "outputs": [
    {
     "data": {
      "text/html": [
       "<div>\n",
       "<style scoped>\n",
       "    .dataframe tbody tr th:only-of-type {\n",
       "        vertical-align: middle;\n",
       "    }\n",
       "\n",
       "    .dataframe tbody tr th {\n",
       "        vertical-align: top;\n",
       "    }\n",
       "\n",
       "    .dataframe thead th {\n",
       "        text-align: right;\n",
       "    }\n",
       "</style>\n",
       "<table border=\"1\" class=\"dataframe\">\n",
       "  <thead>\n",
       "    <tr style=\"text-align: right;\">\n",
       "      <th></th>\n",
       "      <th>Komentar</th>\n",
       "      <th>Sentimen</th>\n",
       "    </tr>\n",
       "  </thead>\n",
       "  <tbody>\n",
       "    <tr>\n",
       "      <th>0</th>\n",
       "      <td>saya sering saat loading  permainan kembali lo...</td>\n",
       "      <td>Negatif</td>\n",
       "    </tr>\n",
       "    <tr>\n",
       "      <th>1</th>\n",
       "      <td>bagus  lama ini tapi peta livik masih harus pe...</td>\n",
       "      <td>Positif</td>\n",
       "    </tr>\n",
       "    <tr>\n",
       "      <th>2</th>\n",
       "      <td>mohon awasi karena saya bisa login lewat email...</td>\n",
       "      <td>Positif</td>\n",
       "    </tr>\n",
       "    <tr>\n",
       "      <th>3</th>\n",
       "      <td>game terlalu lama loadingnya buat tidak suka d...</td>\n",
       "      <td>Negatif</td>\n",
       "    </tr>\n",
       "    <tr>\n",
       "      <th>4</th>\n",
       "      <td>kirain sudah kasih ulasan permainan  lebih per...</td>\n",
       "      <td>Negatif</td>\n",
       "    </tr>\n",
       "    <tr>\n",
       "      <th>...</th>\n",
       "      <td>...</td>\n",
       "      <td>...</td>\n",
       "    </tr>\n",
       "    <tr>\n",
       "      <th>4995</th>\n",
       "      <td>semakin lama permainan semakin kualitas hampir...</td>\n",
       "      <td>Negatif</td>\n",
       "    </tr>\n",
       "    <tr>\n",
       "      <th>4996</th>\n",
       "      <td>banyak lambat  sudah update grafis sudah palin...</td>\n",
       "      <td>Negatif</td>\n",
       "    </tr>\n",
       "    <tr>\n",
       "      <th>4997</th>\n",
       "      <td>kenapa sekarang suka dan sering keluar sendiri...</td>\n",
       "      <td>Positif</td>\n",
       "    </tr>\n",
       "    <tr>\n",
       "      <th>4998</th>\n",
       "      <td>pertama belum upgrade bagus sekarang sudah upg...</td>\n",
       "      <td>Negatif</td>\n",
       "    </tr>\n",
       "    <tr>\n",
       "      <th>4999</th>\n",
       "      <td>lemah update baru semakin sering lambat patah ...</td>\n",
       "      <td>Negatif</td>\n",
       "    </tr>\n",
       "  </tbody>\n",
       "</table>\n",
       "<p>5000 rows × 2 columns</p>\n",
       "</div>"
      ],
      "text/plain": [
       "                                               Komentar Sentimen\n",
       "0     saya sering saat loading  permainan kembali lo...  Negatif\n",
       "1     bagus  lama ini tapi peta livik masih harus pe...  Positif\n",
       "2     mohon awasi karena saya bisa login lewat email...  Positif\n",
       "3     game terlalu lama loadingnya buat tidak suka d...  Negatif\n",
       "4     kirain sudah kasih ulasan permainan  lebih per...  Negatif\n",
       "...                                                 ...      ...\n",
       "4995  semakin lama permainan semakin kualitas hampir...  Negatif\n",
       "4996  banyak lambat  sudah update grafis sudah palin...  Negatif\n",
       "4997  kenapa sekarang suka dan sering keluar sendiri...  Positif\n",
       "4998  pertama belum upgrade bagus sekarang sudah upg...  Negatif\n",
       "4999  lemah update baru semakin sering lambat patah ...  Negatif\n",
       "\n",
       "[5000 rows x 2 columns]"
      ]
     },
     "execution_count": 36,
     "metadata": {},
     "output_type": "execute_result"
    }
   ],
   "source": [
    "df_PUBG"
   ]
  },
  {
   "attachments": {},
   "cell_type": "markdown",
   "metadata": {},
   "source": [
    "## 2.1 Model SVM dataset COD"
   ]
  },
  {
   "cell_type": "code",
   "execution_count": 37,
   "metadata": {},
   "outputs": [],
   "source": [
    "from sklearn.model_selection import KFold\n",
    "from sklearn.svm import SVC\n",
    "\n",
    "\n",
    "X = df_COD[\"Komentar\"]  \n",
    "y = df_COD[\"Sentimen\"]  \n",
    "\n",
    "# Membuat objek KFold dengan k=5\n",
    "kfold_COD= KFold(n_splits=5, shuffle=True, random_state=42)\n",
    "\n",
    "# Melakukan Stratified K-Fold Cross Validation pada data\n",
    "for fold, (train_index, test_index) in enumerate(kfold_COD.split(X, y)):\n",
    "    \n",
    "    # Subset data pelatihan dan data pengujian\n",
    "    X_train, X_test = X[train_index], X[test_index]\n",
    "    y_train, y_test = y[train_index], y[test_index]"
   ]
  },
  {
   "cell_type": "code",
   "execution_count": 38,
   "metadata": {},
   "outputs": [
    {
     "name": "stdout",
     "output_type": "stream",
     "text": [
      "Fold 1 Accuracy: 74.88151658767772 %\n",
      "Fold 2 Accuracy: 77.46144721233689 %\n",
      "Fold 3 Accuracy: 74.4958481613286 %\n",
      "Fold 4 Accuracy: 72.00474495848161 %\n",
      "Fold 5 Accuracy: 74.85172004744959 %\n"
     ]
    }
   ],
   "source": [
    "# Inisialisasi vectorizer dan mengubah data latih ke dalam representasi vektor\n",
    "vectorizer_COD = TfidfVectorizer(max_features=1000, binary=True)\n",
    "X_vect = vectorizer_COD.fit_transform(X_train)\n",
    "\n",
    "# Melakukan oversampling menggunakan SMOTE\n",
    "sm = SMOTE()\n",
    "X_train_res, y_train_res = sm.fit_resample(X_vect, y_train)\n",
    "\n",
    "# Membuat model SVM\n",
    "model_SVM = SVC(kernel='linear')\n",
    "\n",
    "# Melakukan cross validation\n",
    "scores = cross_val_score(model_SVM, X_train_res, y_train_res, cv=kfold_COD)\n",
    "\n",
    "# Menampilkan hasil kinerja model pada setiap fold\n",
    "for fold, score in enumerate(scores):\n",
    "    print(\"Fold\", fold+1, \"Accuracy:\", score*100,\"%\")"
   ]
  },
  {
   "cell_type": "code",
   "execution_count": 39,
   "metadata": {},
   "outputs": [
    {
     "name": "stdout",
     "output_type": "stream",
     "text": [
      "Accuracy: 74.60%\n",
      "F1 Score: 74.65\n",
      "\n",
      "Confusion Matrix:\n",
      " [[414 140]\n",
      " [114 332]]\n"
     ]
    }
   ],
   "source": [
    "# Melatih model dengan data latih yang telah di-resampling\n",
    "model_SVM.fit(X_train_res, y_train_res)\n",
    "\n",
    "# Menghitung akurasi dan prediksi pada data uji\n",
    "X_test_vect = vectorizer_COD.transform(X_test)\n",
    "y_pred = model_SVM.predict(X_test_vect)\n",
    "\n",
    "# Menampilkan hasil evaluasi model\n",
    "print(\"Accuracy: {:.2f}%\".format(accuracy_score(y_test, y_pred) * 100))\n",
    "print(\"F1 Score: {:.2f}\".format(f1_score(y_test, y_pred, average='weighted') * 100))\n",
    "print(\"\\nConfusion Matrix:\\n\", confusion_matrix(y_test, y_pred))"
   ]
  },
  {
   "attachments": {},
   "cell_type": "markdown",
   "metadata": {},
   "source": [
    "## 2.2 Model SVM dataset PUBG"
   ]
  },
  {
   "cell_type": "code",
   "execution_count": 40,
   "metadata": {},
   "outputs": [],
   "source": [
    "from sklearn.model_selection import KFold\n",
    "\n",
    "X = df_PUBG[\"Komentar\"]  \n",
    "y = df_PUBG[\"Sentimen\"]  \n",
    "\n",
    "# Membuat objek KFold dengan k=5\n",
    "kfold_PUBG = KFold(n_splits=5, shuffle=True, random_state=42)\n",
    "\n",
    "# Melakukan Stratified K-Fold Cross Validation pada data\n",
    "for fold, (train_index, test_index) in enumerate(kfold_PUBG.split(X, y)):\n",
    "    \n",
    "    # Subset data pelatihan dan data pengujian\n",
    "    X_train, X_test = X[train_index], X[test_index]\n",
    "    y_train, y_test = y[train_index], y[test_index]"
   ]
  },
  {
   "cell_type": "code",
   "execution_count": 41,
   "metadata": {},
   "outputs": [
    {
     "name": "stdout",
     "output_type": "stream",
     "text": [
      "Fold 1 Accuracy: 76.8141592920354 %\n",
      "Fold 2 Accuracy: 76.10619469026548 %\n",
      "Fold 3 Accuracy: 74.60176991150442 %\n",
      "Fold 4 Accuracy: 76.99115044247787 %\n",
      "Fold 5 Accuracy: 76.90265486725664 %\n"
     ]
    }
   ],
   "source": [
    "# Inisialisasi vectorizer dan mengubah data latih ke dalam representasi vektor\n",
    "vectorizer_PUBG = TfidfVectorizer(max_features=1000, binary=True)\n",
    "X_vect = vectorizer_PUBG.fit_transform(X_train)\n",
    "\n",
    "# Melakukan oversampling menggunakan SMOTE\n",
    "sm = SMOTE()\n",
    "X_train_res, y_train_res = sm.fit_resample(X_vect, y_train)\n",
    "\n",
    "# Membuat model SVM\n",
    "model_SVM = SVC(kernel='linear')\n",
    "\n",
    "# Melakukan cross validation\n",
    "scores = cross_val_score(model_SVM, X_train_res, y_train_res, cv=kfold_PUBG)\n",
    "\n",
    "# Menampilkan hasil kinerja model pada setiap fold\n",
    "for fold, score in enumerate(scores):\n",
    "    print(\"Fold\", fold+1, \"Accuracy:\", score*100,\"%\")\n"
   ]
  },
  {
   "cell_type": "code",
   "execution_count": 42,
   "metadata": {},
   "outputs": [
    {
     "name": "stdout",
     "output_type": "stream",
     "text": [
      "Accuracy: 72.00%\n",
      "F1 Score: 73.08\n",
      "\n",
      "Confusion Matrix:\n",
      " [[545 185]\n",
      " [ 95 175]]\n"
     ]
    }
   ],
   "source": [
    "# Melatih model dengan data latih yang telah di-resampling\n",
    "model_SVM.fit(X_train_res, y_train_res)\n",
    "\n",
    "# Menghitung akurasi dan prediksi pada data uji\n",
    "X_test_vect = vectorizer_PUBG.transform(X_test)\n",
    "y_pred = model_SVM.predict(X_test_vect)\n",
    "\n",
    "# Menampilkan hasil evaluasi model\n",
    "print(\"Accuracy: {:.2f}%\".format(accuracy_score(y_test, y_pred) * 100))\n",
    "print(\"F1 Score: {:.2f}\".format(f1_score(y_test, y_pred, average='weighted') * 100))\n",
    "print(\"\\nConfusion Matrix:\\n\", confusion_matrix(y_test, y_pred))"
   ]
  },
  {
   "cell_type": "markdown",
   "metadata": {},
   "source": [
    "Kesimpulan:\n",
    "Dengan menganalisis sentimen dari ulasan para pemain, proyek ini bertujuan untuk memperoleh wawasan tentang persepsi secara keseluruhan mengenai game PUBG, FF, dan COD di kalangan pemain. Hal ini dapat membantu pengembang dan penerbit game dalam memahami kelebihan, kelemahan, dan area yang perlu diperbaiki dari game-game tersebut berdasarkan umpan balik dari para pemain."
   ]
  }
 ],
 "metadata": {
  "kernelspec": {
   "display_name": "Python 3",
   "language": "python",
   "name": "python3"
  },
  "language_info": {
   "codemirror_mode": {
    "name": "ipython",
    "version": 3
   },
   "file_extension": ".py",
   "mimetype": "text/x-python",
   "name": "python",
   "nbconvert_exporter": "python",
   "pygments_lexer": "ipython3",
   "version": "3.11.1"
  },
  "orig_nbformat": 4
 },
 "nbformat": 4,
 "nbformat_minor": 2
}
